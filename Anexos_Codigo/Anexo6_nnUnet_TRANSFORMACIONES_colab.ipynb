{
  "nbformat": 4,
  "nbformat_minor": 0,
  "metadata": {
    "colab": {
      "provenance": []
    },
    "kernelspec": {
      "name": "python3",
      "display_name": "Python 3"
    },
    "language_info": {
      "name": "python"
    }
  },
  "cells": [
    {
      "cell_type": "markdown",
      "source": [
        "# Anexo 6"
      ],
      "metadata": {
        "id": "I2p_1vqwJzYW"
      }
    },
    {
      "cell_type": "markdown",
      "source": [
        "## 1. Instalaciones necesarias"
      ],
      "metadata": {
        "id": "8N-DsGMvCtJO"
      }
    },
    {
      "cell_type": "code",
      "source": [
        "dataset_name=\"Dataset003_ToothFairy2\""
      ],
      "metadata": {
        "id": "A5dPkXsxAbiA"
      },
      "execution_count": null,
      "outputs": []
    },
    {
      "cell_type": "code",
      "source": [
        "!pip install SimpleITK"
      ],
      "metadata": {
        "colab": {
          "base_uri": "https://localhost:8080/"
        },
        "id": "K_FRyalPKm16",
        "outputId": "3e5ee9ad-e8c9-4812-b55d-172bc325bf08"
      },
      "execution_count": null,
      "outputs": [
        {
          "output_type": "stream",
          "name": "stdout",
          "text": [
            "Collecting SimpleITK\n",
            "  Downloading SimpleITK-2.3.1-cp310-cp310-manylinux_2_17_x86_64.manylinux2014_x86_64.whl (52.7 MB)\n",
            "\u001b[2K     \u001b[90m━━━━━━━━━━━━━━━━━━━━━━━━━━━━━━━━━━━━━━━━\u001b[0m \u001b[32m52.7/52.7 MB\u001b[0m \u001b[31m10.6 MB/s\u001b[0m eta \u001b[36m0:00:00\u001b[0m\n",
            "\u001b[?25hInstalling collected packages: SimpleITK\n",
            "Successfully installed SimpleITK-2.3.1\n"
          ]
        }
      ]
    },
    {
      "cell_type": "code",
      "execution_count": null,
      "metadata": {
        "id": "_QK5S0l8GXQs"
      },
      "outputs": [],
      "source": [
        "import os\n",
        "import numpy as np\n",
        "import SimpleITK as sitk"
      ]
    },
    {
      "cell_type": "code",
      "source": [
        "# Montar Google Drive\n",
        "from google.colab import drive\n",
        "drive.mount('/content/drive')"
      ],
      "metadata": {
        "colab": {
          "base_uri": "https://localhost:8080/"
        },
        "id": "5pmbbR5zG6nC",
        "outputId": "2445e761-bef8-4c07-836d-05e27e9840d8"
      },
      "execution_count": null,
      "outputs": [
        {
          "output_type": "stream",
          "name": "stdout",
          "text": [
            "Mounted at /content/drive\n"
          ]
        }
      ]
    },
    {
      "cell_type": "markdown",
      "source": [
        "## 2. Transformacion de imagenes 3d .mha a 2d nii.gz"
      ],
      "metadata": {
        "id": "DbQbBoIBDBGt"
      }
    },
    {
      "cell_type": "markdown",
      "source": [
        "Este script procesa imágenes médicas en formato MHA (MetaImage) ubicadas en el directorio de entrada (image_dir) junto con sus correspondientes etiquetas en el directorio (label_dir). Cada imagen MHA se compone de múltiples slices, aproximadamente 275 slices en promedio. El script itera sobre cada imagen, luego itera sobre cada slice de la imagen y su etiqueta correspondiente. Para cada slice, se realiza la conversión y se guarda como un archivo nii.gz. Los archivos nii.gz resultantes se guardan en los directorios de salida especificados (output_image_dir para las imágenes y output_label_dir para las etiquetas)."
      ],
      "metadata": {
        "id": "nzqG2slnJXGJ"
      }
    },
    {
      "cell_type": "code",
      "source": [
        "def convert_images_labels(image_dir, label_dir, output_image_dir, output_label_dir):\n",
        "    # Obtener la lista de archivos de imágenes en el directorio de entrada\n",
        "    image_files = sorted(os.listdir(image_dir))\n",
        "\n",
        "    # Obtener la lista de archivos de etiquetas en el directorio de entrada\n",
        "    label_files = sorted(os.listdir(label_dir))\n",
        "\n",
        "    # Crear directorios de salida si no existen\n",
        "    os.makedirs(output_image_dir, exist_ok=True)\n",
        "    os.makedirs(output_label_dir, exist_ok=True)\n",
        "\n",
        "    # Procesar cada par de imágenes y etiquetas\n",
        "    for image_file, label_file in zip(image_files, label_files):\n",
        "        # Leer la imagen\n",
        "        image_path = os.path.join(image_dir, image_file)\n",
        "        image = sitk.ReadImage(image_path)\n",
        "\n",
        "        # Leer la etiqueta\n",
        "        label_path = os.path.join(label_dir, label_file)\n",
        "        label = sitk.ReadImage(label_path)\n",
        "\n",
        "        # Obtener el nombre base (sin extensión) para el archivo de salida\n",
        "        base_name = os.path.splitext(label_file)[0]\n",
        "\n",
        "        # Iterar sobre cada slice y guardarlas con el nombre adecuado\n",
        "        for idx, (image_slice, label_slice) in enumerate(zip(sitk.GetArrayFromImage(image), sitk.GetArrayFromImage(label))):\n",
        "            # Guardar la imagen como archivo nii.gz en el directorio de salida de imágenes\n",
        "            output_image_path = os.path.join(output_image_dir, f\"{base_name}{idx:03d}_0000.nii.gz\")\n",
        "            sitk.WriteImage(sitk.GetImageFromArray(image_slice), output_image_path)\n",
        "\n",
        "            # Guardar la etiqueta como archivo nii.gz en el directorio de salida de etiquetas\n",
        "            output_label_path = os.path.join(output_label_dir, f\"{base_name}{idx:03d}.nii.gz\")\n",
        "            sitk.WriteImage(sitk.GetImageFromArray(label_slice), output_label_path)\n",
        "\n",
        "    print(\"Proceso completado.\")\n",
        "    # Obtener número de archivos en el directorio de salida de imágenes\n",
        "    num_images = len(os.listdir(output_image_dir))\n",
        "\n",
        "    # Obtener número de archivos en el directorio de salida de etiquetas\n",
        "    num_labels = len(os.listdir(output_label_dir))\n",
        "\n",
        "    print(f\"Número de archivos en el directorio de salida de imágenes: {num_images}\")\n",
        "    print(f\"Número de archivos en el directorio de salida de etiquetas: {num_labels}\")"
      ],
      "metadata": {
        "id": "1qne57DejZzg"
      },
      "execution_count": null,
      "outputs": []
    },
    {
      "cell_type": "markdown",
      "source": [
        "### 2.1 Para Train dataset"
      ],
      "metadata": {
        "id": "RDf9sr6excUi"
      }
    },
    {
      "cell_type": "code",
      "source": [
        "# Directorios de entrada\n",
        "image_dir = '/content/drive/MyDrive/saros/nnUNet/nnUNet_raw/Para_transformar_imagenes/imagenes'\n",
        "label_dir = '/content/drive/MyDrive/saros/nnUNet/nnUNet_raw/Para_transformar_imagenes/labels'\n",
        "\n",
        "# Directorios de salida\n",
        "output_image_dir = '/content/drive/MyDrive/saros/nnUNet/nnUNet_raw/' + dataset_name + '/imagesTr'\n",
        "output_label_dir = '/content/drive/MyDrive/saros/nnUNet/nnUNet_raw/' + dataset_name + '/labelsTr'\n",
        "\n",
        "convert_images_labels(image_dir, label_dir, output_image_dir, output_label_dir)"
      ],
      "metadata": {
        "colab": {
          "base_uri": "https://localhost:8080/"
        },
        "id": "oOabeIqTHqnH",
        "outputId": "6684c565-c11a-4e84-ac78-fa7fe84cdafa"
      },
      "execution_count": null,
      "outputs": [
        {
          "output_type": "stream",
          "name": "stdout",
          "text": [
            "Proceso completado.\n",
            "Número de archivos en el directorio de salida de imágenes: 1620\n",
            "Número de archivos en el directorio de salida de etiquetas: 1620\n"
          ]
        }
      ]
    },
    {
      "cell_type": "markdown",
      "source": [
        "### 2.2 Para Test dataset"
      ],
      "metadata": {
        "id": "JxZUCLzVxhkR"
      }
    },
    {
      "cell_type": "code",
      "source": [
        "# Directorios de entrada\n",
        "image_dir = '/content/drive/MyDrive/saros/nnUNet/nnUNet_raw/Para_transformar_imagenes/imagenes_test'\n",
        "label_dir = '/content/drive/MyDrive/saros/nnUNet/nnUNet_raw/Para_transformar_imagenes/labels_test'\n",
        "\n",
        "# Directorios de salida\n",
        "output_image_dir = '/content/drive/MyDrive/saros/nnUNet/nnUNet_raw/' + dataset_name + '/imagesTs'\n",
        "output_label_dir = '/content/drive/MyDrive/saros/nnUNet/nnUNet_raw/' + dataset_name + '/labelsTs'\n",
        "\n",
        "convert_images_labels(image_dir, label_dir, output_image_dir, output_label_dir)"
      ],
      "metadata": {
        "colab": {
          "base_uri": "https://localhost:8080/"
        },
        "id": "xPZkvkAA4HaJ",
        "outputId": "039c66d7-5055-487c-f08e-753d2b4c8be3"
      },
      "execution_count": null,
      "outputs": [
        {
          "output_type": "stream",
          "name": "stdout",
          "text": [
            "Proceso completado.\n",
            "Número de archivos en el directorio de salida de imágenes: 548\n",
            "Número de archivos en el directorio de salida de etiquetas: 548\n"
          ]
        }
      ]
    },
    {
      "cell_type": "markdown",
      "source": [
        "## 3. Transformacion de fichero dataset.json: reducir el numero de clases de 42 a 4"
      ],
      "metadata": {
        "id": "3gZ6a5_DDVBq"
      }
    },
    {
      "cell_type": "markdown",
      "source": [
        "Cambios en el fichero json:\n",
        "- Se cambió el valor de \"tensorImageSize\" de \"4D\" a \"3D\", para reflejar que las imágenes son 2D estáticas.\n",
        "- Se cambió el valor de \"file_ending\" de \".mha\" a \".nii.gz\", para indicar que los archivos de entrada son archivos nii.gz.\n",
        "\n"
      ],
      "metadata": {
        "id": "nFGLBj6YfeCt"
      }
    },
    {
      "cell_type": "markdown",
      "source": [
        "- Se actualizó el valor de \"numTraining\" con el número real de archivos nii.gz disponibles en el conjunto de datos.\n",
        "- Se añadió \"regions_class_order\": [1, 2, 3,4] segun requerimientos de nnUnet y \"region based training\"  \n",
        "\n",
        "Enlace a documentacion de nnUnet al respecto: https://github.com/MIC-DKFZ/nnUNet/blob/master/documentation/region_based_training.md\n"
      ],
      "metadata": {
        "id": "4euFStSSK0V5"
      }
    },
    {
      "cell_type": "markdown",
      "source": [
        "![image.png](data:image/png;base64,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)"
      ],
      "metadata": {
        "id": "QJFzLsujLSc7"
      }
    }
  ]
}